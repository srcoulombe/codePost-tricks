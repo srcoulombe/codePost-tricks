{
 "cells": [
  {
   "cell_type": "markdown",
   "metadata": {},
   "source": [
    "## On handling exceptions\n",
    "We aimed to handle exceptions in the submissions to return insightful feedback on where the code crashed and why (including the arguments which made it crash) instead of simply letting it crash.\n"
   ]
  },
  {
   "cell_type": "markdown",
   "metadata": {},
   "source": [
    "### Things we did\n",
    "When no exceptions were expected, we could use the catch-all ```except Exception``` pattern to catch any exception. We would then use the ```traceback``` library to provide context in the error message returned by the codePost test. \n",
    "\n",
    "In cases when the submissions were expected to raise specific exceptions, we needed to pay special attention to the order of ```except``` blocks. This often resulted in having multiple ```try/except .../else``` blocks, and we simply used ```pass``` in the ```except``` block corresponding to the expected exception."
   ]
  },
  {
   "cell_type": "code",
   "execution_count": null,
   "metadata": {},
   "outputs": [],
   "source": [
    "import traceback\n",
    "\n",
    "try:\n",
    "    student_answer = student_function(...)\n",
    " \n",
    "# expected exception type \n",
    "# e.g. we anticipate students might not account for division-by-zero, so we could use\n",
    "# except ZeroDivisionError as zde:\n",
    "#     ...\n",
    "except exception_type_1 as et1:\n",
    "    # we tried making error messages as helpful as possible\n",
    "    message = \"\\n\".join([\n",
    "        \"Test failed.\",\n",
    "        f\"Unexpected {type(et1)} when calling {student_function} with the following arguments:\",\n",
    "        arguments,\n",
    "        et1, \n",
    "        ''.join(traceback.format_exception_only(type(et1), et1))\n",
    "    ])\n",
    "    return TestOutput(passed=False, logs=message)\n",
    "\n",
    "# include this \"catch all else\" except block to provide more feedback on which case made\n",
    "# the code crash\n",
    "except Exception as any_other_unexpected_exception:\n",
    "    # we tried making error messages as helpful as possible\n",
    "    message = \"\\n\".join([\n",
    "        \"Test failed.\",\n",
    "        f\"Unexpected {type(any_other_unexpected_exception)} when calling {student_function} with the following arguments:\",\n",
    "        arguments,\n",
    "        et1, \n",
    "        ''.join(traceback.format_exception_only(type(any_other_unexpected_exception), any_other_unexpected_exception))\n",
    "    ])\n",
    "    return TestOutput(passed=False, logs=message)\n",
    "\n",
    "# carry on with the rest of the test\n",
    "# Note: \"else:\" is optional; removing it could keep the code flatter\n",
    "else:\n",
    "    ..."
   ]
  },
  {
   "cell_type": "markdown",
   "metadata": {},
   "source": [
    "### Things we could have done"
   ]
  },
  {
   "cell_type": "markdown",
   "metadata": {},
   "source": [
    "1. Add an extra ```assert isinstance(student_answer, expected_return_type)``` statement in the ```try``` block and always include an ```except AssertionError as return_type_mismatch``` block.\n",
    "    \n",
    "    **Challenge #1:** This becomes tricky when dealing with collections of heterogeneous types and nested collections.\n",
    "    \n",
    "    **Solution #1:** Use a nested type checker"
   ]
  },
  {
   "cell_type": "markdown",
   "metadata": {},
   "source": [
    "## On handling mutable arguments\n",
    "Students sometimes modified mutable arguments in their functions; this made it harder to provide feedback when their code failed the test cases, as we couldn't simply tell them the (modified) mutable arguments which made their code crash."
   ]
  },
  {
   "cell_type": "markdown",
   "metadata": {},
   "source": [
    "### Things we did\n",
    "Made separate copies of all mutable variables prior to calling the relevant function."
   ]
  },
  {
   "cell_type": "code",
   "execution_count": null,
   "metadata": {},
   "outputs": [],
   "source": [
    "mutable_arg_1 = ...\n",
    "mutable_arg_2 = ...\n",
    "...\n",
    "\n",
    "mutable_arg_1_copy = ...\n",
    "mutable_arg_2_copy = ...\n",
    "...\n",
    "\n",
    "student_answer = student_function(mutable_arg_1, mutable_arg_2, ...)\n",
    "...\n",
    "\n",
    "try:\n",
    "    student_answer = student_function(...)\n",
    " \n",
    "except exception_type_1 as et1:\n",
    "    message = \"\\n\".join([\n",
    "        \"Test failed.\",\n",
    "        f\"Unexpected {type(et1)} when calling {student_function} with the following arguments:\",\n",
    "        mutable_arg_1_copy, # use copied mutable variable\n",
    "        mutable_arg_2_copy, # use copied mutable variable\n",
    "        et1, \n",
    "        ''.join(traceback.format_exception_only(type(et1), et1))\n",
    "    ])\n",
    "    return TestOutput(passed=False, logs=message)\n"
   ]
  },
  {
   "cell_type": "markdown",
   "metadata": {},
   "source": [
    "### Things we could have done"
   ]
  },
  {
   "cell_type": "markdown",
   "metadata": {},
   "source": [
    "#### When students should not modify mutable arguments\n",
    "1. Use tuples instead of lists and frozensets instead of sets.\n",
    "\n",
    "2. Python doesn't have a \"FrozenDict\" type (AFAIK, see [PEP 416](https://www.python.org/dev/peps/pep-0416/)), but the built-in ```types.MappingProxyType``` class might be useful:\n",
    "\n",
    "    **Pros:** same methods as a normal dictionary, but forbids item assignment (raises ```TypeError: 'mappingproxy' object does not support item assignment```)\n",
    "    \n",
    "    **Cons:** would need to account for the ```TypeError: 'mappingproxy' object does not support item assignment``` exception in autograding code"
   ]
  },
  {
   "cell_type": "markdown",
   "metadata": {},
   "source": [
    "## On parsing STDOUT\n",
    "Functions would often need to print specific things to STDOUT. CodePost has a GUI interface to setup simple tests that check whether some string was printed or not (no coding required). However, these tests didn't return very informative messages upon failure. Furthermore, some print messages were fairly \"personalisable\", and Python's ```re``` library allowed for more detailed regex parsing than what we could do with Bash unit tests. For those reasons, some of the tests that checked and parsed STDOUT were Bash unit tests and others were Python unit tests.\n",
    "\n",
    "## Things we did (with Python unit tests)\n",
    "We used ```contextlib``` and ```io``` standard library modules to capture what was printed to STDOUT. The ```re``` module was used for regex parsing."
   ]
  },
  {
   "cell_type": "code",
   "execution_count": null,
   "metadata": {},
   "outputs": [],
   "source": [
    "# need to parse print statements, so \n",
    "# capture stdout into a string\n",
    "captured_stdout = io.StringIO()\n",
    "with redirect_stdout(captured_stdout):\n",
    "    try:\n",
    "         result = function(...)\n",
    "    except Exception as error:\n",
    "        error_message = ...\n",
    "        return TestOutput(passed=False, logs=error_message)\n",
    "\n",
    "# no longer in the redirect_stdout context,\n",
    "# get what was printed as a single string\n",
    "# (line breaks are represented using standard '\\n' character)\n",
    "string_stdout = captured_stdout.getvalue()\n",
    "\n",
    "... "
   ]
  },
  {
   "cell_type": "markdown",
   "metadata": {},
   "source": [
    "### Things we could have done (with Python unit tests)\n",
    "Nothing comes to mind, although enforcing students to have less \"personalized\" print statements could make the regex portion of unit tests less complicated."
   ]
  },
  {
   "cell_type": "markdown",
   "metadata": {},
   "source": [
    "## On forbidden things in submissions\n",
    "This became relevant when checking that students weren't using functions or modules that could solve questions (e.g. ```reversed``` or ```sort``` when reversing a list, or using a specific random seed in a function).\n",
    "\n",
    "### Things we did\n",
    "We used the ```inspect``` module in the standard library to read the submission's source code as a string and use ```re``` for regex parsing purposes. "
   ]
  },
  {
   "cell_type": "code",
   "execution_count": null,
   "metadata": {},
   "outputs": [],
   "source": [
    "from submission import funct\n",
    "source_code = inspect.getsource(funct)\n",
    "# regex stuff"
   ]
  },
  {
   "cell_type": "markdown",
   "metadata": {},
   "source": [
    "### Things we could have done\n",
    "We could alternatively treat the submission as a normal text file and read it using ```open```, but this was more verbose than tha ```inspect``` solution.\n",
    "The ```ast``` module was also used a few times."
   ]
  },
  {
   "cell_type": "markdown",
   "metadata": {},
   "source": [
    "## On patching functions and dependencies\n",
    "Patching was often needed. Python's ```unittest``` module has library called ```patch``` that makes this fairly straightforward. Common use cases were:\n",
    "\n",
    "1. When questions asked for user input from the CLI\n",
    "2. When function ```foo``` used function ```bar```, and ```bar``` had a mistake that we didn't want to penalize again when testing ```foo```\n",
    "\n",
    "### Things we did\n",
    "We would patch a function/class/method with a hardcoded variable or the correct version of the dependency."
   ]
  },
  {
   "cell_type": "markdown",
   "metadata": {},
   "source": [
    "#### example 1: using input() once, and patching the builtin input() function to return a single predetermined value"
   ]
  },
  {
   "cell_type": "code",
   "execution_count": null,
   "metadata": {},
   "outputs": [],
   "source": [
    "from unittest.mock import patch\n",
    "\n",
    "test_case_arg = \"Hello world!\"\n",
    "with patch('builtins.input', side_effect=test_case_arg) as mocked_input:\n",
    "    # call the function that depends on input() as you would normally do it\n",
    "    result = submission.add_greeting_to_input(\" My name is Samy!\")\n",
    "    assert result == \"Hello world! My name is Samy!\""
   ]
  },
  {
   "cell_type": "markdown",
   "metadata": {},
   "source": [
    "#### example 2: using input() twice, and patching the builtin input() function to iterate over a pre-determined sequence instead of prompting for user input (the sequence must be of the same length as the number of calls to input())"
   ]
  },
  {
   "cell_type": "code",
   "execution_count": null,
   "metadata": {},
   "outputs": [],
   "source": [
    "from unittest.mock import patch\n",
    "\n",
    "user_input_sequence = [\"First string input from STDIN\", \"Second string input from STDIN\"]\n",
    "with patch('builtins.input', side_effect=iter(user_input_sequence)) as mocked_input:\n",
    "    # call the function that depends on input() as you would normally do\n",
    "    # \n",
    "    submission_get_fair_quantity = submission.this_function_calls_input(...)"
   ]
  },
  {
   "cell_type": "markdown",
   "metadata": {},
   "source": [
    "#### example 3: patching a dependency with the corresponding object in the solution code"
   ]
  },
  {
   "cell_type": "code",
   "execution_count": null,
   "metadata": {},
   "outputs": [],
   "source": [
    "# foo.py \n",
    "# def divide(x, y): \n",
    "#     return x / y # doesn't account for division by zero\n",
    "\n",
    "# bar.py \n",
    "# from foo import divide\n",
    "# def calculate_velocity(distance, time): \n",
    "#     return divide(distance, time)\n",
    "\n",
    "# testing bar.calculate_velocity, which depends on foo.divide\n",
    "try:\n",
    "    initial_answer = calculate_velocity(test_distance, test_time)\n",
    "except ...\n",
    "else:\n",
    "    if initial_answer != expected answer:\n",
    "        with patch('foo.divide', wraps=solution_foo.divide):\n",
    "            # calculate_velocity's call to foo.divide is now replaced at runtime\n",
    "            # by a call to solution_foo.divide\n",
    "            try:\n",
    "                patched_answer = calculate_velocity(test_distance, test_time)\n",
    "            except ...\n",
    "            else: ..."
   ]
  },
  {
   "cell_type": "markdown",
   "metadata": {},
   "source": [
    "#### example 4: patching multiple dependencies with the corresponding objects in the solution code"
   ]
  },
  {
   "cell_type": "code",
   "execution_count": null,
   "metadata": {},
   "outputs": [],
   "source": [
    "# foo.py \n",
    "# def divide(x, y): \n",
    "#     return x / y # doesn't account for division by zero\n",
    "\n",
    "# bah.py\n",
    "# def unit_of_measure():\n",
    "#     return km / hr # km and hr are undefined\n",
    "\n",
    "# bar.py \n",
    "# from foo import divide\n",
    "# from bah import unit_of_measure\n",
    "# def calculate_velocity(distance, time): \n",
    "#     return str( divide(distance, time) ) + str( unit_of_measure() )\n",
    "\n",
    "\n",
    "\n",
    "# testing bar.calculate_velocity, which depends on foo.divide\n",
    "try:\n",
    "    initial_answer = calculate_velocity(test_distance, test_time)\n",
    "except ...\n",
    "else:\n",
    "    if initial_answer != expected answer:\n",
    "        with patch('foo.divide', wraps=solution_foo.divide):\n",
    "            with patch('bah.unit_of_measure', wraps=solution_bah.unit_of_measure):\n",
    "                # calculate_velocity's call to foo.divide is now replaced at runtime\n",
    "                # by a call to solution_foo.divide\n",
    "                try:\n",
    "                    patched_answer = calculate_velocity(test_distance, test_time)\n",
    "                except ...\n",
    "                else: ..."
   ]
  },
  {
   "cell_type": "markdown",
   "metadata": {},
   "source": [
    "### Things we could have done\n",
    "We could have used the ```@patch``` decorator approach instead of using ```patch``` as a context manager; this might flatten the tester code and make it more legible.\n",
    "\n",
    "Nothing else comes to mind, but other approaches (whether they involve a safer use of the unittest.mock library or an external module) would be welcome!"
   ]
  },
  {
   "cell_type": "markdown",
   "metadata": {},
   "source": [
    "## On randomness in test cases\n",
    "### Things we did\n",
    "Made the random seed a parameter in our tests, which made sure that students were tested on the same pseudo-randomly-generated arguments.\n",
    "### Things we could have done\n",
    "Test cases were themselves created deterministically (sometimes with the input of other TAs and mentors) to assess different aspects of the students' code. We could also have opted to use a 'monkey testing' approach to test the students' code on random inputs.\n",
    "\n",
    "**Pros:** \n",
    "- This could help TAs find more nuanced edge cases\n",
    "- Testing on more edge cases could make the distinction between great code and good code more evident\n",
    "- Libraries exist to do this fairly simply (see below)\n",
    "\n",
    "**Cons:**\n",
    "- This kind of testing might be overkill for an introduction-to-coding course, especially if the instructor(s) want to keep students as enthusiastic as possible\n",
    "- Might require TAs to spend some time learning extra libraries\n",
    "- No guarantee of complete coverage of edge cases\n",
    "\n",
    "**Available Resources:** \n",
    "- [Hypothesis](https://hypothesis.readthedocs.io/en/latest/)"
   ]
  },
  {
   "cell_type": "markdown",
   "metadata": {},
   "source": [
    "## On testing multiple aspects of same function\n",
    "Sometimes we wanted to test both the function's print statements and their returned values. In such cases, we would write a  codePost unit test for each of those two things individually. "
   ]
  }
 ],
 "metadata": {
  "kernelspec": {
   "display_name": "Python 3",
   "language": "python",
   "name": "python3"
  },
  "language_info": {
   "codemirror_mode": {
    "name": "ipython",
    "version": 3
   },
   "file_extension": ".py",
   "mimetype": "text/x-python",
   "name": "python",
   "nbconvert_exporter": "python",
   "pygments_lexer": "ipython3",
   "version": "3.7.6"
  }
 },
 "nbformat": 4,
 "nbformat_minor": 4
}
